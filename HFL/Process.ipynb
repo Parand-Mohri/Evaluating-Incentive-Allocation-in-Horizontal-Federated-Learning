{
 "cells": [
  {
   "cell_type": "code",
   "execution_count": 2,
   "metadata": {
    "scrolled": true
   },
   "outputs": [],
   "source": [
    "import pandas as pd\n",
    "from sklearn.model_selection import train_test_split\n",
    "from sklearn import tree\n",
    "from sklearn.metrics import accuracy_score"
   ]
  },
  {
   "cell_type": "code",
   "execution_count": 4,
   "metadata": {
    "pycharm": {
     "name": "#%%\n"
    }
   },
   "outputs": [
    {
     "name": "stdout",
     "output_type": "stream",
     "text": [
      "Column Values:  ['game_id' 'rated' 'turns' 'victory_status' 'winner' 'time_increment'\n",
      " 'white_id' 'white_rating' 'black_id' 'black_rating' 'moves'\n",
      " 'opening_code' 'opening_moves' 'opening_fullname' 'opening_shortname'\n",
      " 'opening_response' 'opening_variation']\n"
     ]
    }
   ],
   "source": [
    "full_data = pd.read_csv(\"data/chess_games.csv\")\n",
    "print('Column Values: ', full_data.columns.values)"
   ]
  },
  {
   "cell_type": "code",
   "execution_count": 5,
   "metadata": {},
   "outputs": [
    {
     "data": {
      "text/plain": "(20058, 17)"
     },
     "execution_count": 5,
     "metadata": {},
     "output_type": "execute_result"
    }
   ],
   "source": [
    "full_data.shape"
   ]
  },
  {
   "cell_type": "code",
   "execution_count": 9,
   "outputs": [],
   "source": [
    "da = pd.read_csv(\"data/traindata.csv\")"
   ],
   "metadata": {
    "collapsed": false,
    "pycharm": {
     "name": "#%%\n"
    }
   }
  },
  {
   "cell_type": "code",
   "execution_count": 10,
   "outputs": [
    {
     "data": {
      "text/plain": "     f1    f2    f3    f4    f5    f6       y\n0  8.71  1.13  2.05  2.95  5.93  5.10   77.55\n1  9.00  6.80  7.78  2.44  9.81  1.00  100.91\n2  7.59  7.91  3.09  8.06  9.14  5.30  137.18\n3  2.26  5.19  6.86  7.55  6.68  3.82  110.85\n4  6.30  4.38  6.99  9.77  4.72  8.85  152.37",
      "text/html": "<div>\n<style scoped>\n    .dataframe tbody tr th:only-of-type {\n        vertical-align: middle;\n    }\n\n    .dataframe tbody tr th {\n        vertical-align: top;\n    }\n\n    .dataframe thead th {\n        text-align: right;\n    }\n</style>\n<table border=\"1\" class=\"dataframe\">\n  <thead>\n    <tr style=\"text-align: right;\">\n      <th></th>\n      <th>f1</th>\n      <th>f2</th>\n      <th>f3</th>\n      <th>f4</th>\n      <th>f5</th>\n      <th>f6</th>\n      <th>y</th>\n    </tr>\n  </thead>\n  <tbody>\n    <tr>\n      <th>0</th>\n      <td>8.71</td>\n      <td>1.13</td>\n      <td>2.05</td>\n      <td>2.95</td>\n      <td>5.93</td>\n      <td>5.10</td>\n      <td>77.55</td>\n    </tr>\n    <tr>\n      <th>1</th>\n      <td>9.00</td>\n      <td>6.80</td>\n      <td>7.78</td>\n      <td>2.44</td>\n      <td>9.81</td>\n      <td>1.00</td>\n      <td>100.91</td>\n    </tr>\n    <tr>\n      <th>2</th>\n      <td>7.59</td>\n      <td>7.91</td>\n      <td>3.09</td>\n      <td>8.06</td>\n      <td>9.14</td>\n      <td>5.30</td>\n      <td>137.18</td>\n    </tr>\n    <tr>\n      <th>3</th>\n      <td>2.26</td>\n      <td>5.19</td>\n      <td>6.86</td>\n      <td>7.55</td>\n      <td>6.68</td>\n      <td>3.82</td>\n      <td>110.85</td>\n    </tr>\n    <tr>\n      <th>4</th>\n      <td>6.30</td>\n      <td>4.38</td>\n      <td>6.99</td>\n      <td>9.77</td>\n      <td>4.72</td>\n      <td>8.85</td>\n      <td>152.37</td>\n    </tr>\n  </tbody>\n</table>\n</div>"
     },
     "execution_count": 10,
     "metadata": {},
     "output_type": "execute_result"
    }
   ],
   "source": [
    "da.head()"
   ],
   "metadata": {
    "collapsed": false,
    "pycharm": {
     "name": "#%%\n"
    }
   }
  },
  {
   "cell_type": "code",
   "execution_count": 6,
   "metadata": {},
   "outputs": [
    {
     "data": {
      "text/plain": "   rated  turns  white_rating  black_rating  opening_moves  winner\n0      0     13          1500          1191              5       0\n1      1     16          1322          1261              4       1\n2      1     61          1496          1500              3       0\n3      1     61          1439          1454              3       0\n4      1     95          1523          1469              5       0",
      "text/html": "<div>\n<style scoped>\n    .dataframe tbody tr th:only-of-type {\n        vertical-align: middle;\n    }\n\n    .dataframe tbody tr th {\n        vertical-align: top;\n    }\n\n    .dataframe thead th {\n        text-align: right;\n    }\n</style>\n<table border=\"1\" class=\"dataframe\">\n  <thead>\n    <tr style=\"text-align: right;\">\n      <th></th>\n      <th>rated</th>\n      <th>turns</th>\n      <th>white_rating</th>\n      <th>black_rating</th>\n      <th>opening_moves</th>\n      <th>winner</th>\n    </tr>\n  </thead>\n  <tbody>\n    <tr>\n      <th>0</th>\n      <td>0</td>\n      <td>13</td>\n      <td>1500</td>\n      <td>1191</td>\n      <td>5</td>\n      <td>0</td>\n    </tr>\n    <tr>\n      <th>1</th>\n      <td>1</td>\n      <td>16</td>\n      <td>1322</td>\n      <td>1261</td>\n      <td>4</td>\n      <td>1</td>\n    </tr>\n    <tr>\n      <th>2</th>\n      <td>1</td>\n      <td>61</td>\n      <td>1496</td>\n      <td>1500</td>\n      <td>3</td>\n      <td>0</td>\n    </tr>\n    <tr>\n      <th>3</th>\n      <td>1</td>\n      <td>61</td>\n      <td>1439</td>\n      <td>1454</td>\n      <td>3</td>\n      <td>0</td>\n    </tr>\n    <tr>\n      <th>4</th>\n      <td>1</td>\n      <td>95</td>\n      <td>1523</td>\n      <td>1469</td>\n      <td>5</td>\n      <td>0</td>\n    </tr>\n  </tbody>\n</table>\n</div>"
     },
     "execution_count": 6,
     "metadata": {},
     "output_type": "execute_result"
    }
   ],
   "source": [
    "useful_data = full_data[[\"rated\", \"turns\", \"white_rating\", \"black_rating\", \"opening_moves\", \"winner\"]]\n",
    "useful_data = useful_data.replace('White', 0)\n",
    "useful_data = useful_data.replace('Black', 1)\n",
    "useful_data = useful_data.replace('Draw', 0.5)\n",
    "useful_data = useful_data.astype(int)\n",
    "useful_data.head()"
   ]
  },
  {
   "cell_type": "code",
   "execution_count": 7,
   "metadata": {},
   "outputs": [
    {
     "data": {
      "text/plain": "20058"
     },
     "execution_count": 7,
     "metadata": {},
     "output_type": "execute_result"
    }
   ],
   "source": [
    "len(useful_data)"
   ]
  },
  {
   "cell_type": "code",
   "execution_count": 8,
   "outputs": [],
   "source": [
    "pd.DataFrame(useful_data).to_csv(\"data/chess_useful_data.csv\")"
   ],
   "metadata": {
    "collapsed": false,
    "pycharm": {
     "name": "#%%\n"
    }
   }
  },
  {
   "cell_type": "code",
   "execution_count": 58,
   "outputs": [
    {
     "data": {
      "text/plain": "(20058, 6)"
     },
     "execution_count": 58,
     "metadata": {},
     "output_type": "execute_result"
    }
   ],
   "source": [
    "useful_data.shape"
   ],
   "metadata": {
    "collapsed": false,
    "pycharm": {
     "name": "#%%\n"
    }
   }
  },
  {
   "cell_type": "code",
   "execution_count": 13,
   "metadata": {},
   "outputs": [],
   "source": [
    "def divide_data_random(data):\n",
    "    # print(len(data))\n",
    "    group_1 = round((20/100)* len(data)) -1\n",
    "    group_2 = round((50/100) * len(data)) -1\n",
    "    # print(group_1)\n",
    "    # print(group_2)\n",
    "    # group_3 = round((30/100) * len(data)) -1\n",
    "    g1 = data.iloc[:group_1]\n",
    "    g2 = data.iloc[group_1:group_1+group_2]\n",
    "    g3 = data.iloc[group_1+group_2:]\n",
    "    return g1,g2,g3\n"
   ]
  },
  {
   "cell_type": "code",
   "execution_count": 15,
   "metadata": {},
   "outputs": [],
   "source": [
    "Y = useful_data['winner']\n",
    "X = useful_data.drop(['winner'],axis=1)\n",
    "# divide data in tljo test and train, one centralized set for the test\n",
    "X_train, X_test, Y_train, Y_test = train_test_split(X, Y,\n",
    "  test_size=0.34, random_state=10)"
   ]
  },
  {
   "cell_type": "code",
   "execution_count": 57,
   "outputs": [
    {
     "data": {
      "text/plain": "13238"
     },
     "execution_count": 57,
     "metadata": {},
     "output_type": "execute_result"
    }
   ],
   "source": [
    "len(X_train)"
   ],
   "metadata": {
    "collapsed": false,
    "pycharm": {
     "name": "#%%\n"
    }
   }
  },
  {
   "cell_type": "code",
   "execution_count": 16,
   "outputs": [],
   "source": [
    "c1_x, c2_x, c3_x = divide_data_random(X_train)\n",
    "c1_l, c2_l, c3_l = divide_data_random(Y_train)"
   ],
   "metadata": {
    "collapsed": false,
    "pycharm": {
     "name": "#%%\n"
    }
   }
  },
  {
   "cell_type": "markdown",
   "source": [],
   "metadata": {
    "collapsed": false
   }
  },
  {
   "cell_type": "code",
   "execution_count": 49,
   "outputs": [],
   "source": [
    "def find_best_max_depth(x,y, x_test, y_test):\n",
    "    best_acc = 0\n",
    "    best_i = 0\n",
    "    for i in range(1,201,5):\n",
    "        clf = tree.DecisionTreeClassifier(criterion = 'entropy', max_depth=i)\n",
    "        clf = clf.fit(x,y)\n",
    "        y_pred = clf.predict(x_test)\n",
    "        if accuracy_score(y_test, y_pred) > best_acc:\n",
    "            best_acc = accuracy_score(y_test, y_pred)\n",
    "            best_i = i\n",
    "    return best_i"
   ],
   "metadata": {
    "collapsed": false,
    "pycharm": {
     "name": "#%%\n"
    }
   }
  },
  {
   "cell_type": "code",
   "execution_count": 51,
   "outputs": [],
   "source": [
    "def find_best_min_sample_leaf(x,y, x_test, y_test, max_depth):\n",
    "    best_acc = 0\n",
    "    best_i = 0\n",
    "    for i in range(1,201,5):\n",
    "        clf = tree.DecisionTreeClassifier(criterion = 'entropy', max_depth=max_depth, min_samples_leaf=i)\n",
    "        clf = clf.fit(x,y)\n",
    "        y_pred = clf.predict(x_test)\n",
    "        if accuracy_score(y_test, y_pred) > best_acc:\n",
    "            best_acc = accuracy_score(y_test, y_pred)\n",
    "            best_i = i\n",
    "    return best_i"
   ],
   "metadata": {
    "collapsed": false,
    "pycharm": {
     "name": "#%%\n"
    }
   }
  },
  {
   "cell_type": "code",
   "execution_count": null,
   "outputs": [],
   "source": [
    "def make_models(X, y):\n",
    "    X_train, X_test, Y_train, Y_test = train_test_split(X, Y,test_size=0.34, random_state=10)\n",
    "    c1_x, c2_x, c3_x = divide_data_random(X_train)\n",
    "    c1_l, c2_l, c3_l = divide_data_random(Y_train)\n",
    "    b_d_central = find_best_max_depth(X_train, Y_train, X_test,Y_test)\n",
    "    b_d_1 = find_best_max_depth(c1_x, c1_l, X_test,Y_test)\n",
    "    b_d_2 = find_best_max_depth(c2_x, c2_l, X_test,Y_test)\n",
    "    b_d_3 = find_best_max_depth(c3_x, c3_l, X_test,Y_test)\n",
    "    b_m_central = find_best_min_sample_leaf(X_train, Y_train,X_test,Y_test,b_d_central)\n",
    "    b_m_1 = find_best_min_sample_leaf(c1_x, c1_l,X_test,Y_test,b_d_1)\n",
    "    b_m_2 = find_best_min_sample_leaf(c2_x, c2_l,X_test,Y_test,b_d_2)\n",
    "    b_m_3 = find_best_min_sample_leaf(c3_x, c3_l,X_test,Y_test,b_d_3)\n",
    "    clf_central = tree.DecisionTreeClassifier(criterion = 'entropy', max_depth=b_d_central, min_samples_leaf=b_m_central)\n",
    "    clf_1 = tree.DecisionTreeClassifier(criterion = 'entropy',max_depth=b_d_1, min_samples_leaf=b_m_1)\n",
    "    clf_2 = tree.DecisionTreeClassifier(criterion = 'entropy',max_depth=b_d_2, min_samples_leaf=b_m_2)\n",
    "    clf_3 = tree.DecisionTreeClassifier(criterion = 'entropy',max_depth=b_d_3, min_samples_leaf=b_m_3)\n",
    "    clf_central = clf_central.fit(X_train, Y_train)\n",
    "    clf_1 = clf_1.fit(c1_x, c1_l)\n",
    "    clf_2 = clf_2.fit(c2_x, c2_l)\n",
    "    clf_3 = clf_3.fit(c3_x, c3_l)\n",
    "    return [clf_central,clf_1,clf_2,clf_3]"
   ],
   "metadata": {
    "collapsed": false,
    "pycharm": {
     "name": "#%%\n"
    }
   }
  },
  {
   "cell_type": "code",
   "execution_count": 52,
   "outputs": [
    {
     "name": "stdout",
     "output_type": "stream",
     "text": [
      "141\n",
      "0.61158357771261\n",
      "6\n",
      "0.582258064516129\n",
      "156\n",
      "0.6233137829912023\n",
      "11\n",
      "0.5828445747800587\n"
     ]
    }
   ],
   "source": [
    "b_d_central = find_best_max_depth(X_train, Y_train, X_test,Y_test)\n",
    "b_d_1 = find_best_max_depth(c1_x, c1_l, X_test,Y_test)\n",
    "b_d_2 = find_best_max_depth(c2_x, c2_l, X_test,Y_test)\n",
    "b_d_3 = find_best_max_depth(c3_x, c3_l, X_test,Y_test)\n",
    "b_m_central = find_best_min_sample_leaf(X_train, Y_train,X_test,Y_test,b_d_central)\n",
    "b_m_1 = find_best_min_sample_leaf(c1_x, c1_l,X_test,Y_test,b_d_1)\n",
    "b_m_2 = find_best_min_sample_leaf(c2_x, c2_l,X_test,Y_test,b_d_2)\n",
    "b_m_3 = find_best_min_sample_leaf(c3_x, c3_l,X_test,Y_test,b_d_3)\n",
    "clf_central = tree.DecisionTreeClassifier(criterion = 'entropy', max_depth=b_d_central, min_samples_leaf=b_m_central)\n",
    "clf_1 = tree.DecisionTreeClassifier(criterion = 'entropy',max_depth=b_d_1, min_samples_leaf=b_m_1)\n",
    "clf_2 = tree.DecisionTreeClassifier(criterion = 'entropy',max_depth=b_d_2, min_samples_leaf=b_m_2)\n",
    "clf_3 = tree.DecisionTreeClassifier(criterion = 'entropy',max_depth=b_d_3, min_samples_leaf=b_m_3)"
   ],
   "metadata": {
    "collapsed": false,
    "pycharm": {
     "name": "#%%\n"
    }
   }
  },
  {
   "cell_type": "code",
   "execution_count": 53,
   "outputs": [],
   "source": [
    "clf_central = clf_central.fit(X_train, Y_train)\n",
    "clf_1 = clf_1.fit(c1_x, c1_l)\n",
    "clf_2 = clf_2.fit(c2_x, c2_l)\n",
    "clf_3 = clf_3.fit(c3_x, c3_l)"
   ],
   "metadata": {
    "collapsed": false,
    "pycharm": {
     "name": "#%%\n"
    }
   }
  },
  {
   "cell_type": "code",
   "execution_count": null,
   "outputs": [],
   "source": [
    "def predict_and_perfromance(models, X_test):\n",
    "    Yp_central = models[0].predict(X_test)\n",
    "    Yp_1 = models[1].predict(X_test)\n",
    "    Yp_2 = models[2].predict(X_test)\n",
    "    Yp_3 = models[3].predict(X_test)"
   ],
   "metadata": {
    "collapsed": false,
    "pycharm": {
     "name": "#%%\n"
    }
   }
  },
  {
   "cell_type": "code",
   "execution_count": 54,
   "outputs": [],
   "source": [
    "Yp_central = clf_central.predict(X_test)\n",
    "Yp_1 = clf_1.predict(X_test)\n",
    "Yp_2 = clf_2.predict(X_test)\n",
    "Yp_3 = clf_3.predict(X_test)"
   ],
   "metadata": {
    "collapsed": false,
    "pycharm": {
     "name": "#%%\n"
    }
   }
  },
  {
   "cell_type": "code",
   "execution_count": 55,
   "outputs": [],
   "source": [
    "acc_central = accuracy_score(Y_test, Yp_central)\n",
    "acc_1 = accuracy_score(Y_test, Yp_1)\n",
    "acc_2 = accuracy_score(Y_test, Yp_2)\n",
    "acc_3 = accuracy_score(Y_test, Yp_3)"
   ],
   "metadata": {
    "collapsed": false,
    "pycharm": {
     "name": "#%%\n"
    }
   }
  },
  {
   "cell_type": "code",
   "execution_count": 56,
   "outputs": [
    {
     "name": "stdout",
     "output_type": "stream",
     "text": [
      "central acc 0.6398826979472141\n",
      "model 1 acc 0.5907624633431086\n",
      "model 2 acc 0.6318181818181818\n",
      "model 3 acc 0.6156891495601173\n"
     ]
    }
   ],
   "source": [
    "print(\"central acc\", acc_central)\n",
    "print(\"model 1 acc\", acc_1)\n",
    "print(\"model 2 acc\", acc_2)\n",
    "print(\"model 3 acc\", acc_3)"
   ],
   "metadata": {
    "collapsed": false,
    "pycharm": {
     "name": "#%%\n"
    }
   }
  }
 ],
 "metadata": {
  "kernelspec": {
   "display_name": "Python 3",
   "language": "python",
   "name": "python3"
  },
  "language_info": {
   "codemirror_mode": {
    "name": "ipython",
    "version": 3
   },
   "file_extension": ".py",
   "mimetype": "text/x-python",
   "name": "python",
   "nbconvert_exporter": "python",
   "pygments_lexer": "ipython3",
   "version": "3.8.8"
  }
 },
 "nbformat": 4,
 "nbformat_minor": 1
}