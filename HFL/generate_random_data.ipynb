{
 "cells": [
  {
   "cell_type": "code",
   "execution_count": 1,
   "metadata": {
    "collapsed": true
   },
   "outputs": [],
   "source": [
    "from sklearn.datasets import make_classification\n",
    "import pandas as pd\n",
    "import numpy as np"
   ]
  },
  {
   "cell_type": "code",
   "execution_count": 8,
   "outputs": [],
   "source": [
    "X, y =  make_classification(\n",
    "    n_samples=200000, # 4000 observations\n",
    "    n_features=6, # 6 total features\n",
    "    n_informative=3, # 3 'useful' features\n",
    "    n_classes=2, # number of classes\n",
    "    flip_y = 0.2\n",
    ")"
   ],
   "metadata": {
    "collapsed": false,
    "pycharm": {
     "name": "#%%\n"
    }
   }
  },
  {
   "cell_type": "code",
   "execution_count": 9,
   "outputs": [
    {
     "data": {
      "text/plain": "array([[ 1.52215063, -0.03571042,  2.12611324, -1.99976919,  1.11625725,\n        -2.21616407],\n       [ 0.06662281, -1.20833859, -1.24886362, -0.31009579, -1.34149196,\n        -0.40101195],\n       [-1.47862918,  3.15611155,  2.68210003,  1.51706455,  2.26475798,\n         0.81208903],\n       ...,\n       [ 1.4479523 , -0.44119894,  0.79735294, -0.59768878,  0.74220264,\n        -0.92377979],\n       [-1.00505284,  1.48968917,  0.45442644,  0.25190657,  0.90794536,\n         1.45275603],\n       [-0.66602329,  0.89136081,  0.6380525 ,  0.8608875 ,  0.40541159,\n         0.19957223]])"
     },
     "execution_count": 9,
     "metadata": {},
     "output_type": "execute_result"
    }
   ],
   "source": [
    "X"
   ],
   "metadata": {
    "collapsed": false,
    "pycharm": {
     "name": "#%%\n"
    }
   }
  },
  {
   "cell_type": "code",
   "execution_count": 10,
   "outputs": [
    {
     "data": {
      "text/plain": "array([0, 1, 1, ..., 0, 0, 0])"
     },
     "execution_count": 10,
     "metadata": {},
     "output_type": "execute_result"
    }
   ],
   "source": [
    "y"
   ],
   "metadata": {
    "collapsed": false,
    "pycharm": {
     "name": "#%%\n"
    }
   }
  },
  {
   "cell_type": "code",
   "execution_count": 11,
   "outputs": [],
   "source": [
    "data = np.column_stack((X, y))"
   ],
   "metadata": {
    "collapsed": false,
    "pycharm": {
     "name": "#%%\n"
    }
   }
  },
  {
   "cell_type": "code",
   "execution_count": 6,
   "outputs": [
    {
     "data": {
      "text/plain": "array([[-0.68762401, -0.72067443, -0.45914328, ..., -1.18411808,\n        -0.6740097 ,  0.        ],\n       [-2.11630616,  0.43970214, -1.35694139, ..., -0.96619648,\n        -0.39140879,  0.        ],\n       [-0.33037647,  0.23066039,  0.8885326 , ...,  1.83252184,\n         0.90660573,  1.        ],\n       ...,\n       [-0.33728169, -0.77787983, -2.56646057, ...,  0.54412229,\n         0.13861853,  1.        ],\n       [-1.00233132, -0.064507  ,  0.45971969, ..., -1.9840541 ,\n        -0.95299712,  0.        ],\n       [ 0.19699219, -0.99044148, -0.07691176, ..., -0.52457357,\n        -0.40213916,  0.        ]])"
     },
     "execution_count": 6,
     "metadata": {},
     "output_type": "execute_result"
    }
   ],
   "source": [],
   "metadata": {
    "collapsed": false,
    "pycharm": {
     "name": "#%%\n"
    }
   }
  },
  {
   "cell_type": "code",
   "execution_count": 12,
   "outputs": [],
   "source": [
    "pd.DataFrame(data).to_csv(\"data/random_generated_binary_200000_noisy_data.csv\")"
   ],
   "metadata": {
    "collapsed": false,
    "pycharm": {
     "name": "#%%\n"
    }
   }
  },
  {
   "cell_type": "code",
   "execution_count": null,
   "outputs": [],
   "source": [],
   "metadata": {
    "collapsed": false,
    "pycharm": {
     "name": "#%%\n"
    }
   }
  }
 ],
 "metadata": {
  "kernelspec": {
   "display_name": "Python 3",
   "language": "python",
   "name": "python3"
  },
  "language_info": {
   "codemirror_mode": {
    "name": "ipython",
    "version": 2
   },
   "file_extension": ".py",
   "mimetype": "text/x-python",
   "name": "python",
   "nbconvert_exporter": "python",
   "pygments_lexer": "ipython2",
   "version": "2.7.6"
  }
 },
 "nbformat": 4,
 "nbformat_minor": 0
}