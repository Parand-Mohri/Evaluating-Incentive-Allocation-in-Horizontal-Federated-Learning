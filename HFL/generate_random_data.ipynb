{
 "cells": [
  {
   "cell_type": "code",
   "execution_count": 1,
   "metadata": {
    "collapsed": true
   },
   "outputs": [],
   "source": [
    "from sklearn.datasets import make_classification\n",
    "import pandas as pd\n",
    "import numpy as np"
   ]
  },
  {
   "cell_type": "code",
   "execution_count": 2,
   "outputs": [],
   "source": [
    "X, y =  make_classification(\n",
    "    n_samples=200000, # 4000 observations\n",
    "    n_features=6, # 6 total features\n",
    "    n_informative=3, # 3 'useful' features\n",
    "    n_classes=2, # number of classes\n",
    "    weights=[0.5, 0.5]\n",
    ")"
   ],
   "metadata": {
    "collapsed": false,
    "pycharm": {
     "name": "#%%\n"
    }
   }
  },
  {
   "cell_type": "code",
   "execution_count": 3,
   "outputs": [
    {
     "data": {
      "text/plain": "array([[-0.29112073,  0.10388688,  1.61101415, -1.23402114,  1.81695383,\n        -0.73473104],\n       [ 2.63466515, -1.16144651,  0.87547722, -1.29215092, -0.15103483,\n        -2.07291419],\n       [ 2.71314072, -1.00646828, -1.62915577,  1.42717566, -0.93220231,\n        -0.55645312],\n       ...,\n       [-0.48172188, -0.49631722, -0.71921485,  1.30306417,  1.45243553,\n        -0.3835755 ],\n       [-0.17727091,  0.56924461, -0.91512496,  0.8323919 , -0.96214601,\n         1.29868489],\n       [ 0.2149179 , -1.25264947, -0.94958781,  0.70845656, -0.57402452,\n        -1.26013634]])"
     },
     "execution_count": 3,
     "metadata": {},
     "output_type": "execute_result"
    }
   ],
   "source": [
    "X"
   ],
   "metadata": {
    "collapsed": false,
    "pycharm": {
     "name": "#%%\n"
    }
   }
  },
  {
   "cell_type": "code",
   "execution_count": 4,
   "outputs": [
    {
     "data": {
      "text/plain": "array([0, 0, 1, ..., 1, 1, 1])"
     },
     "execution_count": 4,
     "metadata": {},
     "output_type": "execute_result"
    }
   ],
   "source": [
    "y"
   ],
   "metadata": {
    "collapsed": false,
    "pycharm": {
     "name": "#%%\n"
    }
   }
  },
  {
   "cell_type": "code",
   "execution_count": 5,
   "outputs": [],
   "source": [
    "data = np.column_stack((X, y))"
   ],
   "metadata": {
    "collapsed": false,
    "pycharm": {
     "name": "#%%\n"
    }
   }
  },
  {
   "cell_type": "code",
   "execution_count": 6,
   "outputs": [
    {
     "data": {
      "text/plain": "array([[-0.68762401, -0.72067443, -0.45914328, ..., -1.18411808,\n        -0.6740097 ,  0.        ],\n       [-2.11630616,  0.43970214, -1.35694139, ..., -0.96619648,\n        -0.39140879,  0.        ],\n       [-0.33037647,  0.23066039,  0.8885326 , ...,  1.83252184,\n         0.90660573,  1.        ],\n       ...,\n       [-0.33728169, -0.77787983, -2.56646057, ...,  0.54412229,\n         0.13861853,  1.        ],\n       [-1.00233132, -0.064507  ,  0.45971969, ..., -1.9840541 ,\n        -0.95299712,  0.        ],\n       [ 0.19699219, -0.99044148, -0.07691176, ..., -0.52457357,\n        -0.40213916,  0.        ]])"
     },
     "execution_count": 6,
     "metadata": {},
     "output_type": "execute_result"
    }
   ],
   "source": [],
   "metadata": {
    "collapsed": false,
    "pycharm": {
     "name": "#%%\n"
    }
   }
  },
  {
   "cell_type": "code",
   "execution_count": 6,
   "outputs": [],
   "source": [
    "pd.DataFrame(data).to_csv(\"data/random_generated_balanced_data.csv\")"
   ],
   "metadata": {
    "collapsed": false,
    "pycharm": {
     "name": "#%%\n"
    }
   }
  },
  {
   "cell_type": "code",
   "execution_count": null,
   "outputs": [],
   "source": [],
   "metadata": {
    "collapsed": false,
    "pycharm": {
     "name": "#%%\n"
    }
   }
  }
 ],
 "metadata": {
  "kernelspec": {
   "display_name": "Python 3",
   "language": "python",
   "name": "python3"
  },
  "language_info": {
   "codemirror_mode": {
    "name": "ipython",
    "version": 2
   },
   "file_extension": ".py",
   "mimetype": "text/x-python",
   "name": "python",
   "nbconvert_exporter": "python",
   "pygments_lexer": "ipython2",
   "version": "2.7.6"
  }
 },
 "nbformat": 4,
 "nbformat_minor": 0
}